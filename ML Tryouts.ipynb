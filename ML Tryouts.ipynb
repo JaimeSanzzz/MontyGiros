{
 "cells": [
  {
   "cell_type": "code",
   "execution_count": 1,
   "metadata": {},
   "outputs": [],
   "source": [
    "import pandas as pd\n",
    "import numpy as np\n",
    "import seaborn as sns\n",
    "from sklearn.model_selection import train_test_split\n",
    "from sklearn.ensemble import GradientBoostingRegressor, ExtraTreesRegressor\n",
    "from sklearn.ensemble import RandomForestRegressor, AdaBoostRegressor\n",
    "from sklearn.tree import DecisionTreeRegressor\n",
    "import matplotlib.pyplot as plt\n",
    "import math\n",
    "from sklearn.metrics import mean_squared_error\n",
    "from sklearn.model_selection import GridSearchCV\n",
    "from sklearn.experimental import enable_hist_gradient_boosting  \n",
    "from sklearn.ensemble import HistGradientBoostingRegressor"
   ]
  },
  {
   "cell_type": "code",
   "execution_count": 17,
   "metadata": {},
   "outputs": [],
   "source": [
    "import matplotlib.pyplot as plt\n",
    "\n",
    "\n",
    "from sklearn.ensemble import GradientBoostingClassifier, ExtraTreesClassifier, RandomForestClassifier \n",
    "from sklearn.tree import DecisionTreeClassifier\n",
    "from sklearn.experimental import enable_hist_gradient_boosting  \n",
    "from sklearn.ensemble import HistGradientBoostingClassifier\n",
    "from sklearn.metrics import accuracy_score, precision_score, recall_score, f1_score"
   ]
  },
  {
   "cell_type": "code",
   "execution_count": 2,
   "metadata": {},
   "outputs": [
    {
     "data": {
      "text/html": [
       "<div>\n",
       "<style scoped>\n",
       "    .dataframe tbody tr th:only-of-type {\n",
       "        vertical-align: middle;\n",
       "    }\n",
       "\n",
       "    .dataframe tbody tr th {\n",
       "        vertical-align: top;\n",
       "    }\n",
       "\n",
       "    .dataframe thead th {\n",
       "        text-align: right;\n",
       "    }\n",
       "</style>\n",
       "<table border=\"1\" class=\"dataframe\">\n",
       "  <thead>\n",
       "    <tr style=\"text-align: right;\">\n",
       "      <th></th>\n",
       "      <th>Weekday of Fecha Referencia</th>\n",
       "      <th>Day of Fecha Referencia</th>\n",
       "      <th>Month of Fecha Referencia</th>\n",
       "      <th>Giros</th>\n",
       "    </tr>\n",
       "    <tr>\n",
       "      <th>id</th>\n",
       "      <th></th>\n",
       "      <th></th>\n",
       "      <th></th>\n",
       "      <th></th>\n",
       "    </tr>\n",
       "  </thead>\n",
       "  <tbody>\n",
       "    <tr>\n",
       "      <th>1</th>\n",
       "      <td>1</td>\n",
       "      <td>1</td>\n",
       "      <td>1</td>\n",
       "      <td>1115</td>\n",
       "    </tr>\n",
       "    <tr>\n",
       "      <th>2</th>\n",
       "      <td>1</td>\n",
       "      <td>1</td>\n",
       "      <td>2</td>\n",
       "      <td>5934</td>\n",
       "    </tr>\n",
       "    <tr>\n",
       "      <th>3</th>\n",
       "      <td>1</td>\n",
       "      <td>1</td>\n",
       "      <td>4</td>\n",
       "      <td>13417</td>\n",
       "    </tr>\n",
       "    <tr>\n",
       "      <th>4</th>\n",
       "      <td>1</td>\n",
       "      <td>1</td>\n",
       "      <td>5</td>\n",
       "      <td>2827</td>\n",
       "    </tr>\n",
       "    <tr>\n",
       "      <th>5</th>\n",
       "      <td>1</td>\n",
       "      <td>1</td>\n",
       "      <td>6</td>\n",
       "      <td>12283</td>\n",
       "    </tr>\n",
       "  </tbody>\n",
       "</table>\n",
       "</div>"
      ],
      "text/plain": [
       "    Weekday of Fecha Referencia  Day of Fecha Referencia  \\\n",
       "id                                                         \n",
       "1                             1                        1   \n",
       "2                             1                        1   \n",
       "3                             1                        1   \n",
       "4                             1                        1   \n",
       "5                             1                        1   \n",
       "\n",
       "    Month of Fecha Referencia  Giros  \n",
       "id                                    \n",
       "1                           1   1115  \n",
       "2                           2   5934  \n",
       "3                           4  13417  \n",
       "4                           5   2827  \n",
       "5                           6  12283  "
      ]
     },
     "execution_count": 2,
     "metadata": {},
     "output_type": "execute_result"
    }
   ],
   "source": [
    "train = pd.read_csv('./output/giros_train_numeric.csv', index_col=0)\n",
    "train.head()"
   ]
  },
  {
   "cell_type": "code",
   "execution_count": 19,
   "metadata": {},
   "outputs": [
    {
     "data": {
      "text/html": [
       "<div>\n",
       "<style scoped>\n",
       "    .dataframe tbody tr th:only-of-type {\n",
       "        vertical-align: middle;\n",
       "    }\n",
       "\n",
       "    .dataframe tbody tr th {\n",
       "        vertical-align: top;\n",
       "    }\n",
       "\n",
       "    .dataframe thead th {\n",
       "        text-align: right;\n",
       "    }\n",
       "</style>\n",
       "<table border=\"1\" class=\"dataframe\">\n",
       "  <thead>\n",
       "    <tr style=\"text-align: right;\">\n",
       "      <th></th>\n",
       "      <th>Weekday of Fecha Referencia</th>\n",
       "      <th>Day of Fecha Referencia</th>\n",
       "      <th>Month of Fecha Referencia</th>\n",
       "    </tr>\n",
       "    <tr>\n",
       "      <th>id</th>\n",
       "      <th></th>\n",
       "      <th></th>\n",
       "      <th></th>\n",
       "    </tr>\n",
       "  </thead>\n",
       "  <tbody>\n",
       "    <tr>\n",
       "      <th>1</th>\n",
       "      <td>1</td>\n",
       "      <td>1</td>\n",
       "      <td>2</td>\n",
       "    </tr>\n",
       "    <tr>\n",
       "      <th>2</th>\n",
       "      <td>1</td>\n",
       "      <td>1</td>\n",
       "      <td>3</td>\n",
       "    </tr>\n",
       "    <tr>\n",
       "      <th>3</th>\n",
       "      <td>1</td>\n",
       "      <td>1</td>\n",
       "      <td>6</td>\n",
       "    </tr>\n",
       "    <tr>\n",
       "      <th>4</th>\n",
       "      <td>1</td>\n",
       "      <td>1</td>\n",
       "      <td>8</td>\n",
       "    </tr>\n",
       "    <tr>\n",
       "      <th>5</th>\n",
       "      <td>1</td>\n",
       "      <td>1</td>\n",
       "      <td>11</td>\n",
       "    </tr>\n",
       "  </tbody>\n",
       "</table>\n",
       "</div>"
      ],
      "text/plain": [
       "    Weekday of Fecha Referencia  Day of Fecha Referencia  \\\n",
       "id                                                         \n",
       "1                             1                        1   \n",
       "2                             1                        1   \n",
       "3                             1                        1   \n",
       "4                             1                        1   \n",
       "5                             1                        1   \n",
       "\n",
       "    Month of Fecha Referencia  \n",
       "id                             \n",
       "1                           2  \n",
       "2                           3  \n",
       "3                           6  \n",
       "4                           8  \n",
       "5                          11  "
      ]
     },
     "execution_count": 19,
     "metadata": {},
     "output_type": "execute_result"
    }
   ],
   "source": [
    "test = pd.read_csv('./output/giros_test_numeric.csv', index_col=0)\n",
    "test.head()"
   ]
  },
  {
   "cell_type": "code",
   "execution_count": 3,
   "metadata": {},
   "outputs": [],
   "source": [
    "X = train.drop(columns=[\"Giros\"])\n",
    "y = train[\"Giros\"]\n",
    "\n",
    "X_train, X_test, y_train, y_test = train_test_split(X, y, test_size=0.2)"
   ]
  },
  {
   "cell_type": "code",
   "execution_count": 4,
   "metadata": {},
   "outputs": [],
   "source": [
    "models = {\n",
    "    \"forest200\": RandomForestRegressor(n_estimators=200),\n",
    "    \"forest400\": RandomForestRegressor(n_estimators=400),\n",
    "    \"ada700\": AdaBoostRegressor(n_estimators=700),\n",
    "    \"ada900\": AdaBoostRegressor(n_estimators=900),\n",
    "    \"boosting_950\": GradientBoostingRegressor(n_estimators=950),\n",
    "    \"boosting_1050\": GradientBoostingRegressor(n_estimators=1050),\n",
    "    \"extra_100\":ExtraTreesRegressor(),\n",
    "    \"extra_300\":ExtraTreesRegressor(n_estimators=300),\n",
    "    \"extra_700\":ExtraTreesRegressor(n_estimators=700)\n",
    "}"
   ]
  },
  {
   "cell_type": "code",
   "execution_count": 5,
   "metadata": {},
   "outputs": [
    {
     "name": "stdout",
     "output_type": "stream",
     "text": [
      "Starting training\n",
      "Training forest200...\n",
      "Training complete\n",
      "Starting training\n",
      "Training forest400...\n",
      "Training complete\n",
      "Starting training\n",
      "Training ada700...\n",
      "Training complete\n",
      "Starting training\n",
      "Training ada900...\n",
      "Training complete\n",
      "Starting training\n",
      "Training boosting_950...\n",
      "Training complete\n",
      "Starting training\n",
      "Training boosting_1050...\n",
      "Training complete\n",
      "Starting training\n",
      "Training extra_100...\n",
      "Training complete\n",
      "Starting training\n",
      "Training extra_300...\n",
      "Training complete\n",
      "Starting training\n",
      "Training extra_700...\n",
      "Training complete\n"
     ]
    }
   ],
   "source": [
    "for name, model  in models.items():\n",
    "    print(f\"Starting training\")\n",
    "    print(f\"Training {name}...\")\n",
    "    model.fit(X_train, y_train)\n",
    "    print(f\"Training complete\")"
   ]
  },
  {
   "cell_type": "code",
   "execution_count": 6,
   "metadata": {},
   "outputs": [
    {
     "name": "stdout",
     "output_type": "stream",
     "text": [
      "Evaluating model forest200\n",
      "\t RMSE: 3181.7209\n",
      "Evaluating model forest400\n",
      "\t RMSE: 3190.6886\n",
      "Evaluating model ada700\n",
      "\t RMSE: 2601.557\n",
      "Evaluating model ada900\n",
      "\t RMSE: 2613.3984\n",
      "Evaluating model boosting_950\n",
      "\t RMSE: 2919.8147\n",
      "Evaluating model boosting_1050\n",
      "\t RMSE: 2939.2043\n",
      "Evaluating model extra_100\n",
      "\t RMSE: 3306.202\n",
      "Evaluating model extra_300\n",
      "\t RMSE: 3318.5697\n",
      "Evaluating model extra_700\n",
      "\t RMSE: 3308.8169\n"
     ]
    }
   ],
   "source": [
    "printMetric = lambda label,value:print(f\"\\t {label}: {round(value,4)}\")\n",
    "\n",
    "for name,m in models.items():\n",
    "    y_pred = m.predict(X_test)\n",
    "    print(f\"Evaluating model {name}\")\n",
    "    printMetric(\"RMSE\",math.sqrt(mean_squared_error(y_test, y_pred)))"
   ]
  },
  {
   "cell_type": "markdown",
   "metadata": {},
   "source": [
    "# Without regulating size "
   ]
  },
  {
   "cell_type": "code",
   "execution_count": 11,
   "metadata": {},
   "outputs": [],
   "source": [
    "X = train.drop(columns=[\"Giros\"])\n",
    "y = train[\"Giros\"]"
   ]
  },
  {
   "cell_type": "code",
   "execution_count": 12,
   "metadata": {},
   "outputs": [],
   "source": [
    "models = {\n",
    "    \"forest200\": RandomForestRegressor(n_estimators=200),\n",
    "    \"forest400\": RandomForestRegressor(n_estimators=400),\n",
    "    \"ada700\": AdaBoostRegressor(n_estimators=700),\n",
    "    \"ada900\": AdaBoostRegressor(n_estimators=900),\n",
    "    \"boosting_950\": GradientBoostingRegressor(n_estimators=950),\n",
    "    \"boosting_1050\": GradientBoostingRegressor(n_estimators=1050),\n",
    "    \"extra_100\": ExtraTreesRegressor(),\n",
    "    \"extra_300\": ExtraTreesRegressor(n_estimators=300)\n",
    "}"
   ]
  },
  {
   "cell_type": "code",
   "execution_count": 13,
   "metadata": {},
   "outputs": [
    {
     "name": "stdout",
     "output_type": "stream",
     "text": [
      "Starting training\n",
      "Training forest200...\n",
      "Training complete\n",
      "Starting training\n",
      "Training forest400...\n",
      "Training complete\n",
      "Starting training\n",
      "Training ada700...\n",
      "Training complete\n",
      "Starting training\n",
      "Training ada900...\n",
      "Training complete\n",
      "Starting training\n",
      "Training boosting_950...\n",
      "Training complete\n",
      "Starting training\n",
      "Training boosting_1050...\n",
      "Training complete\n",
      "Starting training\n",
      "Training extra_100...\n",
      "Training complete\n",
      "Starting training\n",
      "Training extra_300...\n",
      "Training complete\n"
     ]
    }
   ],
   "source": [
    "for name, model  in models.items():\n",
    "    print(f\"Starting training\")\n",
    "    print(f\"Training {name}...\")\n",
    "    model.fit(X, y)\n",
    "    print(f\"Training complete\")"
   ]
  },
  {
   "cell_type": "code",
   "execution_count": 14,
   "metadata": {},
   "outputs": [
    {
     "name": "stdout",
     "output_type": "stream",
     "text": [
      "Evaluating model forest200\n",
      "\t RMSE: 1176.5689\n",
      "Evaluating model forest400\n",
      "\t RMSE: 1174.1486\n",
      "Evaluating model ada700\n",
      "\t RMSE: 2454.3083\n",
      "Evaluating model ada900\n",
      "\t RMSE: 2446.2824\n",
      "Evaluating model boosting_950\n",
      "\t RMSE: 2209.5568\n",
      "Evaluating model boosting_1050\n",
      "\t RMSE: 2204.3213\n",
      "Evaluating model extra_100\n",
      "\t RMSE: 0.0\n",
      "Evaluating model extra_300\n",
      "\t RMSE: 0.0\n"
     ]
    }
   ],
   "source": [
    "printMetric = lambda label,value:print(f\"\\t {label}: {round(value,4)}\")\n",
    "\n",
    "for name,m in models.items():\n",
    "    y_pred = m.predict(X)\n",
    "    print(f\"Evaluating model {name}\")\n",
    "    printMetric(\"RMSE\",math.sqrt(mean_squared_error(y, y_pred)))"
   ]
  },
  {
   "cell_type": "markdown",
   "metadata": {},
   "source": [
    "# REAL Preds (Tac Ops)"
   ]
  },
  {
   "cell_type": "code",
   "execution_count": 9,
   "metadata": {},
   "outputs": [],
   "source": [
    "from sklearn.linear_model import LinearRegression"
   ]
  },
  {
   "cell_type": "code",
   "execution_count": 16,
   "metadata": {},
   "outputs": [],
   "source": [
    "from sklearn import linear_model"
   ]
  },
  {
   "cell_type": "code",
   "execution_count": 13,
   "metadata": {},
   "outputs": [],
   "source": [
    "forest200_model = linear_model.LinearRegression()"
   ]
  },
  {
   "cell_type": "code",
   "execution_count": 19,
   "metadata": {},
   "outputs": [
    {
     "ename": "AttributeError",
     "evalue": "module 'sklearn.linear_model' has no attribute 'fit'",
     "output_type": "error",
     "traceback": [
      "\u001b[0;31m---------------------------------------------------------------------------\u001b[0m",
      "\u001b[0;31mAttributeError\u001b[0m                            Traceback (most recent call last)",
      "\u001b[0;32m<ipython-input-19-734636ca0757>\u001b[0m in \u001b[0;36m<module>\u001b[0;34m\u001b[0m\n\u001b[0;32m----> 1\u001b[0;31m \u001b[0mfitted_model\u001b[0m \u001b[0;34m=\u001b[0m \u001b[0mlinear_model\u001b[0m\u001b[0;34m.\u001b[0m\u001b[0mfit\u001b[0m\u001b[0;34m(\u001b[0m\u001b[0mX_train\u001b[0m\u001b[0;34m,\u001b[0m \u001b[0my_train\u001b[0m\u001b[0;34m)\u001b[0m\u001b[0;34m\u001b[0m\u001b[0;34m\u001b[0m\u001b[0m\n\u001b[0m\u001b[1;32m      2\u001b[0m \u001b[0mprint\u001b[0m\u001b[0;34m(\u001b[0m\u001b[0;34m\"intercept\"\u001b[0m\u001b[0;34m,\u001b[0m \u001b[0mfitted_model\u001b[0m\u001b[0;34m.\u001b[0m\u001b[0mintercept_\u001b[0m\u001b[0;34m)\u001b[0m\u001b[0;34m\u001b[0m\u001b[0;34m\u001b[0m\u001b[0m\n\u001b[1;32m      3\u001b[0m \u001b[0mprint\u001b[0m\u001b[0;34m(\u001b[0m\u001b[0;34m\"coefficients\"\u001b[0m\u001b[0;34m,\u001b[0m \u001b[0mfitted_model\u001b[0m\u001b[0;34m.\u001b[0m\u001b[0mcoef_\u001b[0m\u001b[0;34m)\u001b[0m\u001b[0;34m\u001b[0m\u001b[0;34m\u001b[0m\u001b[0m\n",
      "\u001b[0;31mAttributeError\u001b[0m: module 'sklearn.linear_model' has no attribute 'fit'"
     ]
    }
   ],
   "source": [
    "fitted_model = linear_model.fit(X_train, y_train)\n",
    "print(\"intercept\", fitted_model.intercept_) \n",
    "print(\"coefficients\", fitted_model.coef_)"
   ]
  },
  {
   "cell_type": "code",
   "execution_count": null,
   "metadata": {},
   "outputs": [],
   "source": [
    "x = fitted_model.predict(X_test)"
   ]
  },
  {
   "cell_type": "code",
   "execution_count": null,
   "metadata": {},
   "outputs": [],
   "source": [
    "import pandas as pd \n",
    "\n",
    "predictionAuto_df = pd.DataFrame({'prediction': x,\n",
    "                                'ground_truth': y_test,\n",
    "                             'diff': x-y_test })\n",
    "\n",
    "predictionAuto_df.head()"
   ]
  },
  {
   "cell_type": "markdown",
   "metadata": {},
   "source": [
    "# Predictions"
   ]
  },
  {
   "cell_type": "code",
   "execution_count": 16,
   "metadata": {},
   "outputs": [],
   "source": [
    "X = train.drop(columns=[\"Giros\"])\n",
    "y = train[\"Giros\"]\n",
    "\n",
    "X_train, X_test, y_train, y_test = train_test_split(X, y, test_size=0.2)"
   ]
  },
  {
   "cell_type": "code",
   "execution_count": 17,
   "metadata": {},
   "outputs": [],
   "source": [
    "model = ExtraTreesRegressor(n_estimators=400)\n",
    "fitted_model = model.fit(X, y)"
   ]
  },
  {
   "cell_type": "code",
   "execution_count": 20,
   "metadata": {},
   "outputs": [
    {
     "data": {
      "text/plain": [
       "array([ 5934.    , 11116.465 , 12283.    , ...,  5524.    ,  2172.    ,\n",
       "        2121.2125])"
      ]
     },
     "execution_count": 20,
     "metadata": {},
     "output_type": "execute_result"
    }
   ],
   "source": [
    "y_pred_final = fitted_model.predict(test)\n",
    "y_pred_final"
   ]
  },
  {
   "cell_type": "code",
   "execution_count": 23,
   "metadata": {},
   "outputs": [
    {
     "data": {
      "text/html": [
       "<div>\n",
       "<style scoped>\n",
       "    .dataframe tbody tr th:only-of-type {\n",
       "        vertical-align: middle;\n",
       "    }\n",
       "\n",
       "    .dataframe tbody tr th {\n",
       "        vertical-align: top;\n",
       "    }\n",
       "\n",
       "    .dataframe thead th {\n",
       "        text-align: right;\n",
       "    }\n",
       "</style>\n",
       "<table border=\"1\" class=\"dataframe\">\n",
       "  <thead>\n",
       "    <tr style=\"text-align: right;\">\n",
       "      <th></th>\n",
       "      <th>id</th>\n",
       "      <th>giros</th>\n",
       "    </tr>\n",
       "  </thead>\n",
       "  <tbody>\n",
       "    <tr>\n",
       "      <th>0</th>\n",
       "      <td>0</td>\n",
       "      <td>5934.000</td>\n",
       "    </tr>\n",
       "    <tr>\n",
       "      <th>1</th>\n",
       "      <td>1</td>\n",
       "      <td>11116.465</td>\n",
       "    </tr>\n",
       "    <tr>\n",
       "      <th>2</th>\n",
       "      <td>2</td>\n",
       "      <td>12283.000</td>\n",
       "    </tr>\n",
       "    <tr>\n",
       "      <th>3</th>\n",
       "      <td>3</td>\n",
       "      <td>6691.000</td>\n",
       "    </tr>\n",
       "    <tr>\n",
       "      <th>4</th>\n",
       "      <td>4</td>\n",
       "      <td>7109.240</td>\n",
       "    </tr>\n",
       "  </tbody>\n",
       "</table>\n",
       "</div>"
      ],
      "text/plain": [
       "   id      giros\n",
       "0   0   5934.000\n",
       "1   1  11116.465\n",
       "2   2  12283.000\n",
       "3   3   6691.000\n",
       "4   4   7109.240"
      ]
     },
     "execution_count": 23,
     "metadata": {},
     "output_type": "execute_result"
    }
   ],
   "source": [
    "pred = pd.DataFrame(y_pred_final).reset_index()\n",
    "pred = pred.rename(columns={\"index\": \"id\", 0: \"giros\"})\n",
    "pred.head()"
   ]
  },
  {
   "cell_type": "code",
   "execution_count": 24,
   "metadata": {},
   "outputs": [
    {
     "data": {
      "text/plain": [
       "(1071, 2)"
      ]
     },
     "execution_count": 24,
     "metadata": {},
     "output_type": "execute_result"
    }
   ],
   "source": [
    "pred.shape"
   ]
  },
  {
   "cell_type": "code",
   "execution_count": null,
   "metadata": {},
   "outputs": [],
   "source": [
    "# pred.to_csv('./output/pred3.csv', header=True, index=False)"
   ]
  },
  {
   "cell_type": "code",
   "execution_count": 25,
   "metadata": {},
   "outputs": [],
   "source": [
    "x_predict = fitted_model.predict(X_test)"
   ]
  },
  {
   "cell_type": "code",
   "execution_count": 26,
   "metadata": {},
   "outputs": [
    {
     "data": {
      "image/png": "[encoded data removed]",
      "text/plain": [
       "<Figure size 432x288 with 1 Axes>"
      ]
     },
     "metadata": {
      "needs_background": "light"
     },
     "output_type": "display_data"
    }
   ],
   "source": [
    "plt.scatter(x_predict, y_test, c=\"yellow\")\n",
    "plt.plot([y_test.min(), y_test.max()], [y_test.min(), y_test.max()], 'k--', lw=2,)\n",
    "plt.xlabel('Tested')\n",
    "plt.ylabel('Predicted')\n",
    "plt.title(\"ExtraTreesRegressor400 RMSE:540.0494\" )\n",
    "plt.show()"
   ]
  },
  {
   "cell_type": "code",
   "execution_count": null,
   "metadata": {},
   "outputs": [],
   "source": []
  }
 ],
 "metadata": {
  "kernelspec": {
   "display_name": "Python 3",
   "language": "python",
   "name": "python3"
  },
  "language_info": {
   "codemirror_mode": {
    "name": "ipython",
    "version": 3
   },
   "file_extension": ".py",
   "mimetype": "text/x-python",
   "name": "python",
   "nbconvert_exporter": "python",
   "pygments_lexer": "ipython3",
   "version": "3.8.5"
  }
 },
 "nbformat": 4,
 "nbformat_minor": 4
}
